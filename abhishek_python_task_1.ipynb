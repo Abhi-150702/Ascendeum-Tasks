{
 "cells": [
  {
   "cell_type": "code",
   "execution_count": 84,
   "metadata": {},
   "outputs": [
    {
     "name": "stdout",
     "output_type": "stream",
     "text": [
      "1 2 3 4 \n",
      "\n",
      "12 13 14 5 \n",
      "\n",
      "11 16 15 6 \n",
      "\n",
      "10 9 8 7 \n",
      "\n"
     ]
    }
   ],
   "source": [
    "n= 4\n",
    "count = 1\n",
    "left = top = 0\n",
    "right = bottom = n-1\n",
    "result = [[0]*n for i in range(n)]\n",
    "\n",
    "while left <= right and top <= bottom:\n",
    "\n",
    "    for i in range(left, right+1):\n",
    "        result[top][i] = count\n",
    "        count += 1\n",
    "    \n",
    "    top += 1\n",
    "    for i in range(top, bottom+1):\n",
    "        result[i][right] = count\n",
    "        count += 1\n",
    "    \n",
    "    right -= 1\n",
    "\n",
    "    for i in range(right, left-1, -1):\n",
    "        result[bottom][i] = count\n",
    "        count += 1\n",
    "    \n",
    "    bottom -= 1\n",
    "\n",
    "    for i in range(bottom, top-1,-1):\n",
    "        result[i][left] = count\n",
    "        count += 1\n",
    "    left += 1\n",
    "\n",
    "for row in result:\n",
    "    for ele in row:\n",
    "        print(ele, end=' ')\n",
    "    print('\\n')\n"
   ]
  },
  {
   "cell_type": "code",
   "execution_count": null,
   "metadata": {},
   "outputs": [],
   "source": []
  }
 ],
 "metadata": {
  "kernelspec": {
   "display_name": "langchain",
   "language": "python",
   "name": "python3"
  },
  "language_info": {
   "codemirror_mode": {
    "name": "ipython",
    "version": 3
   },
   "file_extension": ".py",
   "mimetype": "text/x-python",
   "name": "python",
   "nbconvert_exporter": "python",
   "pygments_lexer": "ipython3",
   "version": "3.10.16"
  }
 },
 "nbformat": 4,
 "nbformat_minor": 2
}
